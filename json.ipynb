{
 "cells": [
  {
   "cell_type": "code",
   "execution_count": 1,
   "metadata": {},
   "outputs": [],
   "source": [
    "import json  \n",
    "    \n",
    "# python object(dictionary) to be dumped  \n",
    "dict1 ={  \n",
    "    \"emp1\": {  \n",
    "        \"name\": \"Lisa\",  \n",
    "        \"designation\": \"programmer\",  \n",
    "        \"age\": \"34\",  \n",
    "        \"salary\": \"54000\"\n",
    "    },  \n",
    "    \"emp2\": {  \n",
    "        \"name\": \"Elis\",  \n",
    "        \"designation\": \"Trainee\",  \n",
    "        \"age\": \"24\",  \n",
    "        \"salary\": \"40000\"\n",
    "    },  \n",
    "}  \n",
    "    \n",
    "# the json file where the output must be stored  \n",
    "out_file = open(\"tojson.json\", \"w\")  \n",
    "    \n",
    "json.dump(dict1, out_file, indent = 6)  \n",
    "    \n",
    "out_file.close() "
   ]
  },
  {
   "cell_type": "code",
   "execution_count": null,
   "metadata": {},
   "outputs": [],
   "source": []
  }
 ],
 "metadata": {
  "kernelspec": {
   "display_name": "Python 3",
   "language": "python",
   "name": "python3"
  },
  "language_info": {
   "codemirror_mode": {
    "name": "ipython",
    "version": 3
   },
   "file_extension": ".py",
   "mimetype": "text/x-python",
   "name": "python",
   "nbconvert_exporter": "python",
   "pygments_lexer": "ipython3",
   "version": "3.6.9"
  }
 },
 "nbformat": 4,
 "nbformat_minor": 4
}

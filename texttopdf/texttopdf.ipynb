{
 "cells": [
  {
   "cell_type": "code",
   "execution_count": 5,
   "metadata": {},
   "outputs": [
    {
     "data": {
      "text/plain": [
       "''"
      ]
     },
     "execution_count": 5,
     "metadata": {},
     "output_type": "execute_result"
    }
   ],
   "source": [
    "from fpdf import FPDF \n",
    "   \n",
    "# save FPDF() class into  \n",
    "# a variable pdf \n",
    "pdf = FPDF()    \n",
    "   \n",
    "# Add a page \n",
    "pdf.add_page() \n",
    "   \n",
    "# set style and size of font  \n",
    "# that you want in the pdf \n",
    "pdf.set_font(\"Arial\", size = 15) \n",
    "  \n",
    "# open the text file in read mode \n",
    "f = open(\"myfile.txt\", \"r\") \n",
    "  \n",
    "# insert the texts in pdf \n",
    "for x in f: \n",
    "    pdf.cell(200, 10, txt = x, ln = 1, align = 'C') \n",
    "   \n",
    "# save the pdf with name .pdf \n",
    "pdf.output(\"mygfg.pdf\")  "
   ]
  },
  {
   "cell_type": "code",
   "execution_count": null,
   "metadata": {},
   "outputs": [],
   "source": []
  },
  {
   "cell_type": "code",
   "execution_count": null,
   "metadata": {},
   "outputs": [],
   "source": []
  }
 ],
 "metadata": {
  "kernelspec": {
   "display_name": "Python 3",
   "language": "python",
   "name": "python3"
  },
  "language_info": {
   "codemirror_mode": {
    "name": "ipython",
    "version": 3
   },
   "file_extension": ".py",
   "mimetype": "text/x-python",
   "name": "python",
   "nbconvert_exporter": "python",
   "pygments_lexer": "ipython3",
   "version": "3.6.9"
  }
 },
 "nbformat": 4,
 "nbformat_minor": 4
}

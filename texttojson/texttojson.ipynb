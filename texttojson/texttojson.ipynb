{
 "cells": [
  {
   "cell_type": "code",
   "execution_count": 17,
   "metadata": {},
   "outputs": [
    {
     "name": "stdout",
     "output_type": "stream",
     "text": [
      "['Aps', 'Programmer', '24', '50000']\n",
      "['Vps', 'Athlete', '14', '30000']\n",
      "['Shiva', 'Coach', '30', '60000']\n",
      "['Priya', 'Teacher', '21', '40000']\n"
     ]
    }
   ],
   "source": [
    "import json\n",
    "\n",
    "dict1 = {}\n",
    "dict2 = {}\n",
    "\n",
    "filename = 'jsontotext.txt'\n",
    "\n",
    "#key\n",
    "fields = ['name', 'occupation', 'age', 'salary']\n",
    "\n",
    "with open(filename) as fh:\n",
    "    \n",
    "    i=0;\n",
    "    l=1;\n",
    "    \n",
    "    for line in fh:\n",
    "        description = list(line.strip().split(None, 4))\n",
    "        \n",
    "        #check the content in file\n",
    "        print(description)\n",
    "        \n",
    "        Sno = 'emp'+str(l)\n",
    "        \n",
    "        while i<len(fields):\n",
    "            dict2[fields[i]] = description[i]\n",
    "            i = i+1\n",
    "\n",
    "        dict1[Sno] = dict2\n",
    "        l = l+1\n",
    "        \n",
    "# print(dict1)\n",
    "\n",
    "#creating json file\n",
    "out_file = open('texttojson.json', 'w')\n",
    "json.dump(dict1, out_file, indent=4)\n",
    "out_file.close()"
   ]
  },
  {
   "cell_type": "code",
   "execution_count": null,
   "metadata": {},
   "outputs": [],
   "source": []
  },
  {
   "cell_type": "code",
   "execution_count": null,
   "metadata": {},
   "outputs": [],
   "source": []
  }
 ],
 "metadata": {
  "kernelspec": {
   "display_name": "Python 3",
   "language": "python",
   "name": "python3"
  },
  "language_info": {
   "codemirror_mode": {
    "name": "ipython",
    "version": 3
   },
   "file_extension": ".py",
   "mimetype": "text/x-python",
   "name": "python",
   "nbconvert_exporter": "python",
   "pygments_lexer": "ipython3",
   "version": "3.6.9"
  }
 },
 "nbformat": 4,
 "nbformat_minor": 4
}

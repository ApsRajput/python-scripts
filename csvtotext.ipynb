{
 "cells": [
  {
   "cell_type": "code",
   "execution_count": 2,
   "metadata": {},
   "outputs": [],
   "source": [
    "import csv\n",
    "\n",
    "fields = ['name', 'class', 's no.', 'gender']\n",
    "\n",
    "rows = [['ankit', '2', '1324', 'M'],\n",
    "        ['vinay', '5', '1224', 'M'],\n",
    "        ['shilpa', '3', '1353', 'F'],\n",
    "        ['Shiva', '9', '2324', 'M']]\n",
    "\n",
    "file = 'csvtotext.txt'\n",
    "\n",
    "with open(file, 'w') as csvfile:\n",
    "        csvwriter = csv.writer(csvfile)\n",
    "        \n",
    "        #write the fields first\n",
    "        csvwriter.writerows(fields)\n",
    "        \n",
    "        #write the rows\n",
    "        csvwriter.writerows(rows)"
   ]
  },
  {
   "cell_type": "code",
   "execution_count": null,
   "metadata": {},
   "outputs": [],
   "source": []
  }
 ],
 "metadata": {
  "kernelspec": {
   "display_name": "Python 3",
   "language": "python",
   "name": "python3"
  },
  "language_info": {
   "codemirror_mode": {
    "name": "ipython",
    "version": 3
   },
   "file_extension": ".py",
   "mimetype": "text/x-python",
   "name": "python",
   "nbconvert_exporter": "python",
   "pygments_lexer": "ipython3",
   "version": "3.6.9"
  }
 },
 "nbformat": 4,
 "nbformat_minor": 4
}

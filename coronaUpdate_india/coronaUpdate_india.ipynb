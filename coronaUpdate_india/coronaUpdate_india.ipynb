{
 "cells": [
  {
   "cell_type": "code",
   "execution_count": 106,
   "metadata": {},
   "outputs": [
    {
     "name": "stdout",
     "output_type": "stream",
     "text": [
      "SNo                                       State                        Cases-Confirmed    Cured    Death\n",
      "----------------------------------------  ---------------------------  -----------------  -------  -------\n",
      "1                                         Andaman and Nicobar Islands  22                 11       0\n",
      "2                                         Andhra Pradesh               955                145      29\n",
      "3                                         Arunachal Pradesh            1                  1        0\n",
      "4                                         Assam                        36                 19       1\n",
      "5                                         Bihar                        176                46       2\n",
      "6                                         Chandigarh                   27                 14       0\n",
      "7                                         Chhattisgarh                 36                 28       0\n",
      "8                                         Delhi                        2376               808      50\n",
      "9                                         Goa                          7                  7        0\n",
      "10                                        Gujarat                      2624               258      112\n",
      "11                                        Haryana                      272                156      3\n",
      "12                                        Himachal Pradesh             40                 18       1\n",
      "13                                        Jammu and Kashmir            427                92       5\n",
      "14                                        Jharkhand                    55                 8        3\n",
      "15                                        Karnataka                    463                150      18\n",
      "16                                        Kerala                       448                324      3\n",
      "17                                        Ladakh                       18                 14       0\n",
      "18                                        Madhya Pradesh               1852               203      83\n",
      "19                                        Maharashtra                  6430               840      283\n",
      "20                                        Manipur                      2                  2        0\n",
      "21                                        Meghalaya                    12                 0        1\n",
      "22                                        Mizoram                      1                  0        0\n",
      "23                                        Odisha                       90                 33       1\n",
      "24                                        Puducherry                   7                  3        0\n",
      "25                                        Punjab                       277                65       16\n",
      "26                                        Rajasthan                    1964               230      27\n",
      "27                                        Tamil Nadu                   1683               752      20\n",
      "28                                        Telengana                    984                253      26\n",
      "29                                        Tripura                      2                  1        0\n",
      "30                                        Uttarakhand                  47                 24       0\n",
      "31                                        Uttar Pradesh                1604               206      24\n",
      "32                                        West Bengal                  514                103      15\n",
      "-                                         -                            -                  -        -\n",
      "-                                         -                            -                  -        -\n",
      "Total number of confirmed cases in India  23452*                       4814               723\n"
     ]
    }
   ],
   "source": [
    "# importing libraries \n",
    "\n",
    "import requests\n",
    "from bs4 import BeautifulSoup\n",
    "from tabulate import tabulate\n",
    "\n",
    "#lambda function to replace with new line\n",
    "extract_contents = lambda func: [x.text.replace('\\n', '') for x in func ] \n",
    "URL = 'https://www.mohfw.gov.in/'\n",
    "\n",
    "SHORT_HEADERS = ['SNo', 'State','Cases-Confirmed','Cured','Death'] \n",
    "\n",
    "response = requests.get(URL).content \n",
    "soup = BeautifulSoup(response, 'html.parser') \n",
    "header = extract_contents(soup.tr.find_all('th')) \n",
    "\n",
    "stats = [] \n",
    "all_rows = soup.find_all('tr')\n",
    "\n",
    "for func in all_rows:\n",
    "    #call to lambda function\n",
    "    stat = extract_contents(func.find_all('td'))\n",
    "    \n",
    "    if stat:\n",
    "        #check for last field\n",
    "        if len(stat) == 4:\n",
    "            stats.append('-----')\n",
    "            stats.append('-----')\n",
    "            stats.append(stat)\n",
    "        #all other\n",
    "        elif len(stat) == 5:\n",
    "            stats.append(stat)\n",
    "\n",
    "#Display in tables using tabulate\n",
    "table = tabulate(stats, headers=SHORT_HEADERS) \n",
    "print(table)"
   ]
  },
  {
   "cell_type": "code",
   "execution_count": null,
   "metadata": {},
   "outputs": [],
   "source": []
  },
  {
   "cell_type": "code",
   "execution_count": null,
   "metadata": {},
   "outputs": [],
   "source": []
  }
 ],
 "metadata": {
  "kernelspec": {
   "display_name": "Python 3",
   "language": "python",
   "name": "python3"
  },
  "language_info": {
   "codemirror_mode": {
    "name": "ipython",
    "version": 3
   },
   "file_extension": ".py",
   "mimetype": "text/x-python",
   "name": "python",
   "nbconvert_exporter": "python",
   "pygments_lexer": "ipython3",
   "version": "3.6.9"
  }
 },
 "nbformat": 4,
 "nbformat_minor": 4
}

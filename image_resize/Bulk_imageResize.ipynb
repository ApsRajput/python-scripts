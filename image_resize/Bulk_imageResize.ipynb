{
 "cells": [
  {
   "cell_type": "code",
   "execution_count": 18,
   "metadata": {},
   "outputs": [],
   "source": [
    "#Import Pillow and os\n",
    "from PIL import Image\n",
    "import os, sys\n",
    "\n",
    "#Provide the path to the images folder\n",
    "path = '/root/'\n",
    "imgDir = os.listdir(path)\n",
    "\n",
    "def resizeImage():\n",
    "   for img in imgDir:\n",
    "    \n",
    "    #check for image path\n",
    "    if os.path.isfile(path+img):\n",
    "        \n",
    "        #open image\n",
    "        image = Image.open(path+img)\n",
    "        #get name of the image\n",
    "        name, ext = os.path.splitext(img)\n",
    "        #resize with some values e.g. 50,50\n",
    "        imgResize = image.resize((50,50),  Image.ANTIALIAS)\n",
    "        imgResize.save(path+name+ '_resize.jpg', 'JPEG', quality=80)\n",
    "\n",
    "resizeImage()"
   ]
  },
  {
   "cell_type": "code",
   "execution_count": null,
   "metadata": {},
   "outputs": [],
   "source": []
  },
  {
   "cell_type": "code",
   "execution_count": null,
   "metadata": {},
   "outputs": [],
   "source": []
  },
  {
   "cell_type": "code",
   "execution_count": null,
   "metadata": {},
   "outputs": [],
   "source": []
  }
 ],
 "metadata": {
  "kernelspec": {
   "display_name": "Python 3",
   "language": "python",
   "name": "python3"
  },
  "language_info": {
   "codemirror_mode": {
    "name": "ipython",
    "version": 3
   },
   "file_extension": ".py",
   "mimetype": "text/x-python",
   "name": "python",
   "nbconvert_exporter": "python",
   "pygments_lexer": "ipython3",
   "version": "3.6.9"
  }
 },
 "nbformat": 4,
 "nbformat_minor": 4
}
